{
 "cells": [
  {
   "cell_type": "markdown",
   "metadata": {},
   "source": [
    "# Final Project Part 1\n"
   ]
  },
  {
   "cell_type": "markdown",
   "metadata": {},
   "source": [
    "### Problem statement 1: \n",
    "Figure out which high net worth prospects and existing clients are the right ones to go after for highest ROI (new and additional sales of fund products). My firm has 150 financial advisors and potentially 5000 high net worth individuals that can be contacted in the US."
   ]
  },
  {
   "cell_type": "markdown",
   "metadata": {},
   "source": [
    "#### 1. Dataset\n",
    "2 years of CRM data for prospects and clients that include items such as:\n",
    "\n",
    "1. Net worth\n",
    "2. Past purchases and amounts\n",
    "3. Products purchased\n",
    "4. FA representative\n",
    "5. Interactions: phone/email/meeting\n",
    "6. Address\n",
    "\n"
   ]
  },
  {
   "cell_type": "markdown",
   "metadata": {},
   "source": [
    "#### 2. Analysis approach\n",
    "1. Cluster analysis\n",
    "2. Classification"
   ]
  },
  {
   "cell_type": "markdown",
   "metadata": {},
   "source": [
    "#### 3. Hypothesis\n",
    "Clients/prospects with higher absolute net worth and high number of interactions with financial advisors will have higher ROI."
   ]
  },
  {
   "cell_type": "markdown",
   "metadata": {},
   "source": [
    "### Problem statement 2: \n",
    "For US equity portfolios, figure out which individual companies are more likely to respond to news, stress scenarios and SEC filings."
   ]
  },
  {
   "cell_type": "markdown",
   "metadata": {},
   "source": [
    "#### 1. Dataset\n",
    "1.a. daily price time series of individual equities\n",
    "1.b. descriptive and quantitative data for the equities (ex: sector, market cap, 30 day average daily volume, country of risk (for multinationals))\n",
    "2. Macro events for the last 10 years including Global Financial Crisis, 2016 US Presidential election, BREXIT vote)\n"
   ]
  },
  {
   "cell_type": "markdown",
   "metadata": {},
   "source": [
    "#### 2. Analysis approach\n",
    "1. Cluster analysis\n"
   ]
  },
  {
   "cell_type": "markdown",
   "metadata": {},
   "source": [
    "#### 3. Hypothesis\n",
    "Individual stocks with large market capitalization will be more responsive to stress events and news due to their higher social profile."
   ]
  }
 ],
 "metadata": {
  "kernelspec": {
   "display_name": "Python 3",
   "language": "python",
   "name": "python3"
  },
  "language_info": {
   "codemirror_mode": {
    "name": "ipython",
    "version": 3
   },
   "file_extension": ".py",
   "mimetype": "text/x-python",
   "name": "python",
   "nbconvert_exporter": "python",
   "pygments_lexer": "ipython3",
   "version": "3.6.4"
  }
 },
 "nbformat": 4,
 "nbformat_minor": 1
}
